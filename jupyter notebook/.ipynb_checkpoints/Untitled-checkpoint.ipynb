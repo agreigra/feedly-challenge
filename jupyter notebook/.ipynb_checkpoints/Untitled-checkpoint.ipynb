{
 "cells": [
  {
   "cell_type": "code",
   "execution_count": 1,
   "metadata": {},
   "outputs": [],
   "source": [
    "import string\n",
    "from collections import Counter\n",
    "\n",
    "import nltk\n",
    "import pandas as pd\n",
    "import numpy as np\n",
    "import sklearn\n",
    "from nltk.corpus import stopwords\n",
    "import re\n",
    "import wordcloud\n",
    "\n",
    "import matplotlib.pyplot as plt\n",
    "%matplotlib inline"
   ]
  },
  {
   "cell_type": "code",
   "execution_count": 2,
   "metadata": {},
   "outputs": [],
   "source": [
    "#loading dataset\n",
    "df = pd.read_csv(\"dataset_business_technology_cybersecurity.zip\")"
   ]
  },
  {
   "cell_type": "code",
   "execution_count": 3,
   "metadata": {},
   "outputs": [
    {
     "data": {
      "text/html": [
       "<div>\n",
       "<style scoped>\n",
       "    .dataframe tbody tr th:only-of-type {\n",
       "        vertical-align: middle;\n",
       "    }\n",
       "\n",
       "    .dataframe tbody tr th {\n",
       "        vertical-align: top;\n",
       "    }\n",
       "\n",
       "    .dataframe thead th {\n",
       "        text-align: right;\n",
       "    }\n",
       "</style>\n",
       "<table border=\"1\" class=\"dataframe\">\n",
       "  <thead>\n",
       "    <tr style=\"text-align: right;\">\n",
       "      <th></th>\n",
       "      <th>title</th>\n",
       "      <th>content</th>\n",
       "      <th>topic</th>\n",
       "    </tr>\n",
       "  </thead>\n",
       "  <tbody>\n",
       "    <tr>\n",
       "      <th>239</th>\n",
       "      <td>Firewall pinhole</td>\n",
       "      <td>&lt;p&gt;In computer networking, a &lt;b&gt;firewall pinho...</td>\n",
       "      <td>cybersecurity</td>\n",
       "    </tr>\n",
       "    <tr>\n",
       "      <th>143</th>\n",
       "      <td>Architectural engineering</td>\n",
       "      <td>&lt;p&gt;&lt;b&gt;Architectural engineering&lt;/b&gt;, also know...</td>\n",
       "      <td>technology</td>\n",
       "    </tr>\n",
       "    <tr>\n",
       "      <th>242</th>\n",
       "      <td>UDP hole punching</td>\n",
       "      <td>&lt;p&gt;&lt;b&gt;UDP hole punching&lt;/b&gt; is a commonly used...</td>\n",
       "      <td>cybersecurity</td>\n",
       "    </tr>\n",
       "    <tr>\n",
       "      <th>58</th>\n",
       "      <td>Limited liability</td>\n",
       "      <td>&lt;p&gt;&lt;b&gt;Limited liability&lt;/b&gt; is a legal status ...</td>\n",
       "      <td>business</td>\n",
       "    </tr>\n",
       "    <tr>\n",
       "      <th>22</th>\n",
       "      <td>Business rule</td>\n",
       "      <td>&lt;p&gt;A &lt;b&gt;business rule&lt;/b&gt; defines or constrain...</td>\n",
       "      <td>business</td>\n",
       "    </tr>\n",
       "    <tr>\n",
       "      <th>291</th>\n",
       "      <td>Intrusion detection system</td>\n",
       "      <td>&lt;p&gt;An &lt;b&gt;intrusion detection system&lt;/b&gt; (&lt;b&gt;ID...</td>\n",
       "      <td>cybersecurity</td>\n",
       "    </tr>\n",
       "    <tr>\n",
       "      <th>192</th>\n",
       "      <td>Bus</td>\n",
       "      <td>&lt;p class=\"mw-empty-elt\"&gt;\\n\\n&lt;/p&gt;\\n\\n\\n\\n\\n&lt;p&gt;A...</td>\n",
       "      <td>technology</td>\n",
       "    </tr>\n",
       "    <tr>\n",
       "      <th>124</th>\n",
       "      <td>Geographic information system</td>\n",
       "      <td>&lt;p&gt;A &lt;b&gt;geographic information system&lt;/b&gt; (&lt;b&gt;...</td>\n",
       "      <td>technology</td>\n",
       "    </tr>\n",
       "  </tbody>\n",
       "</table>\n",
       "</div>"
      ],
      "text/plain": [
       "                             title  \\\n",
       "239               Firewall pinhole   \n",
       "143      Architectural engineering   \n",
       "242              UDP hole punching   \n",
       "58               Limited liability   \n",
       "22                   Business rule   \n",
       "291     Intrusion detection system   \n",
       "192                            Bus   \n",
       "124  Geographic information system   \n",
       "\n",
       "                                               content          topic  \n",
       "239  <p>In computer networking, a <b>firewall pinho...  cybersecurity  \n",
       "143  <p><b>Architectural engineering</b>, also know...     technology  \n",
       "242  <p><b>UDP hole punching</b> is a commonly used...  cybersecurity  \n",
       "58   <p><b>Limited liability</b> is a legal status ...       business  \n",
       "22   <p>A <b>business rule</b> defines or constrain...       business  \n",
       "291  <p>An <b>intrusion detection system</b> (<b>ID...  cybersecurity  \n",
       "192  <p class=\"mw-empty-elt\">\\n\\n</p>\\n\\n\\n\\n\\n<p>A...     technology  \n",
       "124  <p>A <b>geographic information system</b> (<b>...     technology  "
      ]
     },
     "execution_count": 3,
     "metadata": {},
     "output_type": "execute_result"
    }
   ],
   "source": [
    "df.sample(8)"
   ]
  },
  {
   "cell_type": "code",
   "execution_count": 4,
   "metadata": {},
   "outputs": [
    {
     "data": {
      "text/plain": [
       "technology       130\n",
       "business         103\n",
       "cybersecurity    100\n",
       "Name: topic, dtype: int64"
      ]
     },
     "execution_count": 4,
     "metadata": {},
     "output_type": "execute_result"
    }
   ],
   "source": [
    "df.topic.value_counts()"
   ]
  },
  {
   "cell_type": "code",
   "execution_count": 5,
   "metadata": {},
   "outputs": [],
   "source": [
    "# removing HTML tags from the articles\n",
    "def remove_tags(text):\n",
    "    \"\"\"Remove HTML tags from a given text\n",
    "    \n",
    "    Parameters\n",
    "    ----------\n",
    "    text: str\n",
    "        text to clean from html tags\n",
    "        \n",
    "    Returns\n",
    "    -------\n",
    "        : str\n",
    "        clean text\n",
    "    \"\"\"\n",
    "    TAG_RE = re.compile(r'<[^>]+>')\n",
    "    return TAG_RE.sub('', text)"
   ]
  },
  {
   "cell_type": "code",
   "execution_count": 6,
   "metadata": {},
   "outputs": [],
   "source": [
    "#Set of functions used to clean a text and transform it to a list of tokens \n",
    "\n",
    "def extract_tokens(text):\n",
    "    \"\"\"Extracts tokens from a given text\n",
    "    \n",
    "    Parameters\n",
    "    ----------\n",
    "    text: str\n",
    "        text to be splited to tokens\n",
    "    Returns\n",
    "    -------\n",
    "    res : list\n",
    "        list of tokens in the text\n",
    "    \"\"\"\n",
    "    res = []\n",
    "    for sent in nltk.sent_tokenize(text):\n",
    "        tmp_res = nltk.word_tokenize(sent)\n",
    "        for token in tmp_res:\n",
    "            res += re.split(\"[\\./]\", token)\n",
    "    return res\n",
    "\n",
    "\n",
    "def clean_tokens(tokens):\n",
    "    \"\"\"Removes punctuation marks from tokens\n",
    "    Parameters\n",
    "    ----------\n",
    "    tokens: list\n",
    "        list to be cleaned from punctuation marks\n",
    "    \n",
    "    Returns\n",
    "    -------\n",
    "    list:\n",
    "        list cleaned from punctuation marks\n",
    "    \"\"\"\n",
    "    return [token.lower() for token in tokens if token not in string.punctuation]\n",
    "\n",
    "\n",
    "def remove_stop_words(tokens):\n",
    "    \"\"\"Removes stopwords from our tokens\n",
    "    \n",
    "    Parameters\n",
    "    ----------\n",
    "    tokens: list \n",
    "        list of tokens to be cleaned from stopwords\n",
    "        \n",
    "    Returns\n",
    "    -------\n",
    "        :list\n",
    "        list cleaned from stopwords\n",
    "    \"\"\"\n",
    "    GARBAGE = {\"'s\", \"n't\", '...', 'oh',\"'m\", \"'re\", \"'\", \"''\", \"'ve\", \"'ll\", \"'d\", \"``\" }\n",
    "    STOP_WORDS = set(stopwords.words('english')).union(GARBAGE)\n",
    "    return [token for token in tokens if token not in STOP_WORDS]\n",
    "\n",
    "def text2tokens(text):\n",
    "    \"\"\"Used to combine three previous functions in one operation.\n",
    "    Parameters\n",
    "    ----------\n",
    "    Text: str\n",
    "        text to be cleaned\n",
    "    Returns\n",
    "    -------\n",
    "    tokens: list\n",
    "        list of tokens cleaned\n",
    "    \"\"\"\n",
    "    tokens = extract_tokens(text)\n",
    "    tokens = clean_tokens(tokens)\n",
    "    tokens = remove_stop_words(tokens)\n",
    "    return tokens"
   ]
  },
  {
   "cell_type": "code",
   "execution_count": 7,
   "metadata": {},
   "outputs": [],
   "source": [
    "df[\"content\"] = df[\"content\"].apply(lambda s: remove_tags(s))"
   ]
  },
  {
   "cell_type": "code",
   "execution_count": 8,
   "metadata": {},
   "outputs": [
    {
     "data": {
      "text/html": [
       "<div>\n",
       "<style scoped>\n",
       "    .dataframe tbody tr th:only-of-type {\n",
       "        vertical-align: middle;\n",
       "    }\n",
       "\n",
       "    .dataframe tbody tr th {\n",
       "        vertical-align: top;\n",
       "    }\n",
       "\n",
       "    .dataframe thead th {\n",
       "        text-align: right;\n",
       "    }\n",
       "</style>\n",
       "<table border=\"1\" class=\"dataframe\">\n",
       "  <thead>\n",
       "    <tr style=\"text-align: right;\">\n",
       "      <th></th>\n",
       "      <th>title</th>\n",
       "      <th>content</th>\n",
       "      <th>topic</th>\n",
       "    </tr>\n",
       "  </thead>\n",
       "  <tbody>\n",
       "    <tr>\n",
       "      <th>104</th>\n",
       "      <td>Theory of computation</td>\n",
       "      <td>In theoretical computer science and mathematic...</td>\n",
       "      <td>technology</td>\n",
       "    </tr>\n",
       "    <tr>\n",
       "      <th>244</th>\n",
       "      <td>Next-generation firewall</td>\n",
       "      <td>A next-generation firewall (NGFW) is a part of...</td>\n",
       "      <td>cybersecurity</td>\n",
       "    </tr>\n",
       "    <tr>\n",
       "      <th>246</th>\n",
       "      <td>Stateful firewall</td>\n",
       "      <td>In computing, a stateful firewall is a network...</td>\n",
       "      <td>cybersecurity</td>\n",
       "    </tr>\n",
       "    <tr>\n",
       "      <th>46</th>\n",
       "      <td>Growth platforms</td>\n",
       "      <td>Growth platforms are specific initiatives sele...</td>\n",
       "      <td>business</td>\n",
       "    </tr>\n",
       "    <tr>\n",
       "      <th>326</th>\n",
       "      <td>Aptum Technologies</td>\n",
       "      <td>Aptum is a global hybrid multi-cloud managed s...</td>\n",
       "      <td>cybersecurity</td>\n",
       "    </tr>\n",
       "    <tr>\n",
       "      <th>59</th>\n",
       "      <td>The World's Billionaires</td>\n",
       "      <td>\\n\\n\\n\\n\\n\\nThe World's Billionaires is an ann...</td>\n",
       "      <td>business</td>\n",
       "    </tr>\n",
       "    <tr>\n",
       "      <th>38</th>\n",
       "      <td>Economics</td>\n",
       "      <td>\\n\\n\\n\\n\\n\\nEconomics () is the social science...</td>\n",
       "      <td>business</td>\n",
       "    </tr>\n",
       "    <tr>\n",
       "      <th>90</th>\n",
       "      <td>Benefit shortfall</td>\n",
       "      <td>When the actual benefits of a venture are less...</td>\n",
       "      <td>business</td>\n",
       "    </tr>\n",
       "    <tr>\n",
       "      <th>299</th>\n",
       "      <td>Information Security Automation Program</td>\n",
       "      <td>The Information Security Automation Program (I...</td>\n",
       "      <td>cybersecurity</td>\n",
       "    </tr>\n",
       "    <tr>\n",
       "      <th>249</th>\n",
       "      <td>IPFilter</td>\n",
       "      <td>IPFilter (commonly referred to as ipf) is an o...</td>\n",
       "      <td>cybersecurity</td>\n",
       "    </tr>\n",
       "  </tbody>\n",
       "</table>\n",
       "</div>"
      ],
      "text/plain": [
       "                                       title  \\\n",
       "104                    Theory of computation   \n",
       "244                 Next-generation firewall   \n",
       "246                        Stateful firewall   \n",
       "46                          Growth platforms   \n",
       "326                       Aptum Technologies   \n",
       "59                  The World's Billionaires   \n",
       "38                                 Economics   \n",
       "90                         Benefit shortfall   \n",
       "299  Information Security Automation Program   \n",
       "249                                 IPFilter   \n",
       "\n",
       "                                               content          topic  \n",
       "104  In theoretical computer science and mathematic...     technology  \n",
       "244  A next-generation firewall (NGFW) is a part of...  cybersecurity  \n",
       "246  In computing, a stateful firewall is a network...  cybersecurity  \n",
       "46   Growth platforms are specific initiatives sele...       business  \n",
       "326  Aptum is a global hybrid multi-cloud managed s...  cybersecurity  \n",
       "59   \\n\\n\\n\\n\\n\\nThe World's Billionaires is an ann...       business  \n",
       "38   \\n\\n\\n\\n\\n\\nEconomics () is the social science...       business  \n",
       "90   When the actual benefits of a venture are less...       business  \n",
       "299  The Information Security Automation Program (I...  cybersecurity  \n",
       "249  IPFilter (commonly referred to as ipf) is an o...  cybersecurity  "
      ]
     },
     "execution_count": 8,
     "metadata": {},
     "output_type": "execute_result"
    }
   ],
   "source": [
    "df.sample(10)"
   ]
  },
  {
   "cell_type": "code",
   "execution_count": 9,
   "metadata": {},
   "outputs": [],
   "source": [
    "def topicToNumber(topic):\n",
    "    if topic==\"business\":\n",
    "        return 0\n",
    "    elif topic==\"technology\":\n",
    "        return 1\n",
    "    else:\n",
    "        return 2\n",
    "\n",
    "df[\"label\"] = df[\"topic\"].apply(topicToNumber)"
   ]
  },
  {
   "cell_type": "code",
   "execution_count": 10,
   "metadata": {},
   "outputs": [
    {
     "data": {
      "text/html": [
       "<div>\n",
       "<style scoped>\n",
       "    .dataframe tbody tr th:only-of-type {\n",
       "        vertical-align: middle;\n",
       "    }\n",
       "\n",
       "    .dataframe tbody tr th {\n",
       "        vertical-align: top;\n",
       "    }\n",
       "\n",
       "    .dataframe thead th {\n",
       "        text-align: right;\n",
       "    }\n",
       "</style>\n",
       "<table border=\"1\" class=\"dataframe\">\n",
       "  <thead>\n",
       "    <tr style=\"text-align: right;\">\n",
       "      <th></th>\n",
       "      <th>title</th>\n",
       "      <th>content</th>\n",
       "      <th>topic</th>\n",
       "      <th>label</th>\n",
       "    </tr>\n",
       "  </thead>\n",
       "  <tbody>\n",
       "    <tr>\n",
       "      <th>26</th>\n",
       "      <td>Change management analyst</td>\n",
       "      <td>A change management analyst is responsible for...</td>\n",
       "      <td>business</td>\n",
       "      <td>0</td>\n",
       "    </tr>\n",
       "    <tr>\n",
       "      <th>66</th>\n",
       "      <td>Customs broker</td>\n",
       "      <td>Custom brokers or Customs House Brokerages are...</td>\n",
       "      <td>business</td>\n",
       "      <td>0</td>\n",
       "    </tr>\n",
       "    <tr>\n",
       "      <th>14</th>\n",
       "      <td>Business ethics</td>\n",
       "      <td>Business ethics (also known as corporate ethic...</td>\n",
       "      <td>business</td>\n",
       "      <td>0</td>\n",
       "    </tr>\n",
       "    <tr>\n",
       "      <th>125</th>\n",
       "      <td>Spreadsheet</td>\n",
       "      <td>A spreadsheet is a computer application for or...</td>\n",
       "      <td>technology</td>\n",
       "      <td>1</td>\n",
       "    </tr>\n",
       "    <tr>\n",
       "      <th>111</th>\n",
       "      <td>Processor design</td>\n",
       "      <td>Processor design is the design engineering tas...</td>\n",
       "      <td>technology</td>\n",
       "      <td>1</td>\n",
       "    </tr>\n",
       "    <tr>\n",
       "      <th>279</th>\n",
       "      <td>SQL injection</td>\n",
       "      <td>\\n\\n\\n\\nSQL injection is a code injection tech...</td>\n",
       "      <td>cybersecurity</td>\n",
       "      <td>2</td>\n",
       "    </tr>\n",
       "    <tr>\n",
       "      <th>290</th>\n",
       "      <td>Firewall</td>\n",
       "      <td>Firewall may refer to:\\n\\nFirewall (computing)...</td>\n",
       "      <td>cybersecurity</td>\n",
       "      <td>2</td>\n",
       "    </tr>\n",
       "    <tr>\n",
       "      <th>45</th>\n",
       "      <td>State ownership</td>\n",
       "      <td>State ownership, also called government owners...</td>\n",
       "      <td>business</td>\n",
       "      <td>0</td>\n",
       "    </tr>\n",
       "    <tr>\n",
       "      <th>263</th>\n",
       "      <td>Eavesdropping</td>\n",
       "      <td>Eavesdropping is the act of secretly or stealt...</td>\n",
       "      <td>cybersecurity</td>\n",
       "      <td>2</td>\n",
       "    </tr>\n",
       "    <tr>\n",
       "      <th>244</th>\n",
       "      <td>Next-generation firewall</td>\n",
       "      <td>A next-generation firewall (NGFW) is a part of...</td>\n",
       "      <td>cybersecurity</td>\n",
       "      <td>2</td>\n",
       "    </tr>\n",
       "  </tbody>\n",
       "</table>\n",
       "</div>"
      ],
      "text/plain": [
       "                         title  \\\n",
       "26   Change management analyst   \n",
       "66              Customs broker   \n",
       "14             Business ethics   \n",
       "125                Spreadsheet   \n",
       "111           Processor design   \n",
       "279              SQL injection   \n",
       "290                   Firewall   \n",
       "45             State ownership   \n",
       "263              Eavesdropping   \n",
       "244   Next-generation firewall   \n",
       "\n",
       "                                               content          topic  label  \n",
       "26   A change management analyst is responsible for...       business      0  \n",
       "66   Custom brokers or Customs House Brokerages are...       business      0  \n",
       "14   Business ethics (also known as corporate ethic...       business      0  \n",
       "125  A spreadsheet is a computer application for or...     technology      1  \n",
       "111  Processor design is the design engineering tas...     technology      1  \n",
       "279  \\n\\n\\n\\nSQL injection is a code injection tech...  cybersecurity      2  \n",
       "290  Firewall may refer to:\\n\\nFirewall (computing)...  cybersecurity      2  \n",
       "45   State ownership, also called government owners...       business      0  \n",
       "263  Eavesdropping is the act of secretly or stealt...  cybersecurity      2  \n",
       "244  A next-generation firewall (NGFW) is a part of...  cybersecurity      2  "
      ]
     },
     "execution_count": 10,
     "metadata": {},
     "output_type": "execute_result"
    }
   ],
   "source": [
    "df.sample(10)"
   ]
  },
  {
   "cell_type": "code",
   "execution_count": 11,
   "metadata": {},
   "outputs": [],
   "source": [
    "from sklearn.feature_extraction.text import TfidfVectorizer\n",
    "\n",
    "vectoriser = TfidfVectorizer()"
   ]
  },
  {
   "cell_type": "code",
   "execution_count": 12,
   "metadata": {},
   "outputs": [],
   "source": [
    "X_train = vectoriser.fit_transform(df[\"content\"])\n",
    "y_train = df[\"label\"]"
   ]
  },
  {
   "cell_type": "code",
   "execution_count": 13,
   "metadata": {},
   "outputs": [
    {
     "data": {
      "text/plain": [
       "38764"
      ]
     },
     "execution_count": 13,
     "metadata": {},
     "output_type": "execute_result"
    }
   ],
   "source": [
    "len(vectoriser.vocabulary_)"
   ]
  },
  {
   "cell_type": "code",
   "execution_count": 14,
   "metadata": {},
   "outputs": [
    {
     "name": "stdout",
     "output_type": "stream",
     "text": [
      "[0.94117647 0.85294118 0.91176471 0.90909091 0.96969697 0.93939394\n",
      " 0.93939394 0.93939394 0.90909091 0.81818182]\n",
      "average score: 0.9130124777183599\n"
     ]
    }
   ],
   "source": [
    "logreg = sklearn.linear_model.LogisticRegression(multi_class=\"multinomial\",max_iter=300)\n",
    "scores = sklearn.model_selection.cross_val_score(logreg, X_train, y_train, cv=10)\n",
    "print(scores)\n",
    "print('average score: {}'.format(scores.mean()))"
   ]
  },
  {
   "cell_type": "code",
   "execution_count": 15,
   "metadata": {},
   "outputs": [
    {
     "data": {
      "text/plain": [
       "LogisticRegression(max_iter=300, multi_class='multinomial')"
      ]
     },
     "execution_count": 15,
     "metadata": {},
     "output_type": "execute_result"
    }
   ],
   "source": [
    "logreg.fit(X_train, y_train)"
   ]
  },
  {
   "cell_type": "code",
   "execution_count": 16,
   "metadata": {},
   "outputs": [],
   "source": [
    "predictions = logreg.predict(X_train) "
   ]
  },
  {
   "cell_type": "code",
   "execution_count": 17,
   "metadata": {},
   "outputs": [
    {
     "data": {
      "text/plain": [
       "array([[102,   1,   0],\n",
       "       [  0, 130,   0],\n",
       "       [  0,   0, 100]])"
      ]
     },
     "execution_count": 17,
     "metadata": {},
     "output_type": "execute_result"
    }
   ],
   "source": [
    "# Matrice de confusion\n",
    "sklearn.metrics.confusion_matrix(y_train, predictions)"
   ]
  },
  {
   "cell_type": "code",
   "execution_count": 18,
   "metadata": {},
   "outputs": [
    {
     "data": {
      "image/png": "[encoded data removed]",
      "text/plain": [
       "<Figure size 432x288 with 2 Axes>"
      ]
     },
     "metadata": {
      "needs_background": "light"
     },
     "output_type": "display_data"
    }
   ],
   "source": [
    "from sklearn.metrics import plot_confusion_matrix\n",
    "plot_confusion_matrix(logreg, X_train, y_train,\n",
    "                      display_labels=[\"Business\", \"technology\", \"cybersecurity\"],\n",
    "                      cmap=plt.cm.Blues, \n",
    "                      normalize='true');"
   ]
  },
  {
   "cell_type": "markdown",
   "metadata": {},
   "source": [
    "# Au tour de Word2Vec\n",
    "\n",
    "Commencez par rajouter la colonne tokens aux dataframes df_train et df_valid.\n",
    "Vous allez y stocker les tokens des textes en utilisant les fonctions données en début du notebook"
   ]
  },
  {
   "cell_type": "code",
   "execution_count": 19,
   "metadata": {},
   "outputs": [],
   "source": [
    "df[\"tokens\"] = df[\"content\"].apply(lambda s: text2tokens(s))"
   ]
  },
  {
   "cell_type": "code",
   "execution_count": 23,
   "metadata": {},
   "outputs": [
    {
     "data": {
      "text/plain": [
       "0    [accounting, accountancy, measurement, process...\n",
       "1    [commerce, exchange, goods, services, especial...\n",
       "2    [finance, term, matters, regarding, management...\n",
       "3    [industrial, relations, employment, relations,...\n",
       "4    [management, managing, administration, organiz...\n",
       "Name: tokens, dtype: object"
      ]
     },
     "execution_count": 23,
     "metadata": {},
     "output_type": "execute_result"
    }
   ],
   "source": [
    "df[\"tokens\"].head()"
   ]
  },
  {
   "cell_type": "code",
   "execution_count": 25,
   "metadata": {},
   "outputs": [],
   "source": [
    "df_train, df_valid = sklearn.model_selection.train_test_split(df, test_size=0.2)"
   ]
  },
  {
   "cell_type": "code",
   "execution_count": 26,
   "metadata": {},
   "outputs": [],
   "source": [
    "from gensim.models import Word2Vec\n",
    "\n",
    "model = Word2Vec(df_train[\"tokens\"], size=300, window=5, min_count=1, workers=20)"
   ]
  },
  {
   "cell_type": "code",
   "execution_count": 27,
   "metadata": {},
   "outputs": [
    {
     "data": {
      "text/plain": [
       "(2505141, 2526025)"
      ]
     },
     "execution_count": 27,
     "metadata": {},
     "output_type": "execute_result"
    }
   ],
   "source": [
    "model.train(df_train[\"tokens\"],total_examples=len(df_train), epochs=5)"
   ]
  },
  {
   "cell_type": "code",
   "execution_count": null,
   "metadata": {},
   "outputs": [],
   "source": []
  },
  {
   "cell_type": "code",
   "execution_count": 33,
   "metadata": {},
   "outputs": [
    {
     "data": {
      "text/html": [
       "        <script type=\"text/javascript\">\n",
       "        window.PlotlyConfig = {MathJaxConfig: 'local'};\n",
       "        if (window.MathJax) {MathJax.Hub.Config({SVG: {font: \"STIX-Web\"}});}\n",
       "        if (typeof require !== 'undefined') {\n",
       "        require.undef(\"plotly\");\n",
       "        requirejs.config({\n",
       "            paths: {\n",
       "                'plotly': ['https://cdn.plot.ly/plotly-latest.min']\n",
       "            }\n",
       "        });\n",
       "        require(['plotly'], function(Plotly) {\n",
       "            window._Plotly = Plotly;\n",
       "        });\n",
       "        }\n",
       "        </script>\n",
       "        "
      ]
     },
     "metadata": {},
     "output_type": "display_data"
    }
   ],
   "source": [
    "# Keras\n",
    "from keras.preprocessing.text import Tokenizer\n",
    "from keras.preprocessing.sequence import pad_sequences\n",
    "from keras.models import Sequential\n",
    "from keras.layers import Dense, Flatten, LSTM, Conv1D, MaxPooling1D, Dropout, Activation\n",
    "from keras.layers.embeddings import Embedding\n",
    "## Plotly\n",
    "import plotly.offline as py\n",
    "import plotly.graph_objs as go\n",
    "py.init_notebook_mode(connected=True)\n",
    "# Others\n",
    "import nltk\n",
    "import string\n",
    "import numpy as np\n",
    "import pandas as pd\n",
    "from nltk.corpus import stopwords\n",
    "\n",
    "from sklearn.manifold import TSNE"
   ]
  },
  {
   "cell_type": "code",
   "execution_count": 34,
   "metadata": {},
   "outputs": [],
   "source": [
    "word_freq = df[\"tokens\"].apply(Counter).sum()"
   ]
  },
  {
   "cell_type": "code",
   "execution_count": 36,
   "metadata": {},
   "outputs": [
    {
     "data": {
      "text/plain": [
       "46170"
      ]
     },
     "execution_count": 36,
     "metadata": {},
     "output_type": "execute_result"
    }
   ],
   "source": [
    "len(word_freq)"
   ]
  },
  {
   "cell_type": "code",
   "execution_count": 30,
   "metadata": {},
   "outputs": [],
   "source": [
    "### Create sequence\n",
    "vocabulary_size = 46170\n",
    "tokenizer = Tokenizer(num_words= vocabulary_size)\n",
    "tokenizer.fit_on_texts(df['content'])\n",
    "sequences = tokenizer.texts_to_sequences(df['text'])\n",
    "data = pad_sequences(sequences, maxlen=50)"
   ]
  },
  {
   "cell_type": "code",
   "execution_count": 31,
   "metadata": {},
   "outputs": [
    {
     "ename": "NameError",
     "evalue": "name 'vocab_size' is not defined",
     "output_type": "error",
     "traceback": [
      "\u001b[0;31m---------------------------------------------------------------------------\u001b[0m",
      "\u001b[0;31mNameError\u001b[0m                                 Traceback (most recent call last)",
      "\u001b[0;32m<ipython-input-31-e293c42e0abd>\u001b[0m in \u001b[0;36m<module>\u001b[0;34m\u001b[0m\n\u001b[1;32m      2\u001b[0m \u001b[0;34m\u001b[0m\u001b[0m\n\u001b[1;32m      3\u001b[0m \u001b[0mmodel\u001b[0m \u001b[0;34m=\u001b[0m \u001b[0mSequential\u001b[0m\u001b[0;34m(\u001b[0m\u001b[0;34m)\u001b[0m\u001b[0;34m\u001b[0m\u001b[0;34m\u001b[0m\u001b[0m\n\u001b[0;32m----> 4\u001b[0;31m model.add(layers.Embedding(input_dim=vocab_size, \n\u001b[0m\u001b[1;32m      5\u001b[0m                            \u001b[0moutput_dim\u001b[0m\u001b[0;34m=\u001b[0m\u001b[0membedding_dim\u001b[0m\u001b[0;34m,\u001b[0m\u001b[0;34m\u001b[0m\u001b[0;34m\u001b[0m\u001b[0m\n\u001b[1;32m      6\u001b[0m                            input_length=maxlen))\n",
      "\u001b[0;31mNameError\u001b[0m: name 'vocab_size' is not defined"
     ]
    }
   ],
   "source": []
  },
  {
   "cell_type": "code",
   "execution_count": null,
   "metadata": {},
   "outputs": [],
   "source": []
  }
 ],
 "metadata": {
  "kernelspec": {
   "display_name": "Python 3",
   "language": "python",
   "name": "python3"
  },
  "language_info": {
   "codemirror_mode": {
    "name": "ipython",
    "version": 3
   },
   "file_extension": ".py",
   "mimetype": "text/x-python",
   "name": "python",
   "nbconvert_exporter": "python",
   "pygments_lexer": "ipython3",
   "version": "3.8.5"
  }
 },
 "nbformat": 4,
 "nbformat_minor": 4
}
