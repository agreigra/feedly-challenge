{
 "cells": [
  {
   "cell_type": "code",
   "execution_count": 1,
   "metadata": {
    "executionInfo": {
     "elapsed": 2754,
     "status": "ok",
     "timestamp": 1609026973896,
     "user": {
      "displayName": "Ahmed Greigra",
      "photoUrl": "https://lh3.googleusercontent.com/a-/AOh14GjVO5kh7A4h_B7r_8BlURYh0xATW0K5y-VcLVZaQQ=s64",
      "userId": "02688016981729645312"
     },
     "user_tz": -60
    },
    "id": "lIkg8Vd49XLp"
   },
   "outputs": [],
   "source": [
    "from keras.preprocessing.text import Tokenizer\n",
    "from keras.preprocessing.sequence import pad_sequences\n",
    "from keras.models import Sequential\n",
    "from keras.layers import Dense, LSTM, Conv1D, MaxPooling1D, Activation\n",
    "from keras.layers.embeddings import Embedding\n",
    "from keras.utils import to_categorical\n",
    "from sklearn.preprocessing import LabelEncoder\n",
    "from keras.utils import np_utils\n",
    "import nltk\n",
    "import sklearn\n",
    "import string\n",
    "import re\n",
    "import numpy as np\n",
    "import pandas as pd\n",
    "from nltk.corpus import stopwords\n",
    "\n",
    "import matplotlib.pyplot as plt"
   ]
  },
  {
   "cell_type": "markdown",
   "metadata": {
    "id": "3lW7NZ4R9XLw"
   },
   "source": [
    "# Data Processing\n"
   ]
  },
  {
   "cell_type": "code",
   "execution_count": 2,
   "metadata": {
    "executionInfo": {
     "elapsed": 2739,
     "status": "ok",
     "timestamp": 1609026973904,
     "user": {
      "displayName": "Ahmed Greigra",
      "photoUrl": "https://lh3.googleusercontent.com/a-/AOh14GjVO5kh7A4h_B7r_8BlURYh0xATW0K5y-VcLVZaQQ=s64",
      "userId": "02688016981729645312"
     },
     "user_tz": -60
    },
    "id": "hqB3Qjny9XLx"
   },
   "outputs": [],
   "source": [
    "#loading dataset\n",
    "df = pd.read_csv(\"dataset_business_technology_cybersecurity.zip\")"
   ]
  },
  {
   "cell_type": "code",
   "execution_count": 3,
   "metadata": {
    "colab": {
     "base_uri": "https://localhost:8080/",
     "height": 204
    },
    "executionInfo": {
     "elapsed": 2732,
     "status": "ok",
     "timestamp": 1609026973906,
     "user": {
      "displayName": "Ahmed Greigra",
      "photoUrl": "https://lh3.googleusercontent.com/a-/AOh14GjVO5kh7A4h_B7r_8BlURYh0xATW0K5y-VcLVZaQQ=s64",
      "userId": "02688016981729645312"
     },
     "user_tz": -60
    },
    "id": "V_k38Z_S9XLx",
    "outputId": "4168012e-9163-4c09-cd9d-688d7a8e1c8a"
   },
   "outputs": [
    {
     "data": {
      "text/html": [
       "<div>\n",
       "<style scoped>\n",
       "    .dataframe tbody tr th:only-of-type {\n",
       "        vertical-align: middle;\n",
       "    }\n",
       "\n",
       "    .dataframe tbody tr th {\n",
       "        vertical-align: top;\n",
       "    }\n",
       "\n",
       "    .dataframe thead th {\n",
       "        text-align: right;\n",
       "    }\n",
       "</style>\n",
       "<table border=\"1\" class=\"dataframe\">\n",
       "  <thead>\n",
       "    <tr style=\"text-align: right;\">\n",
       "      <th></th>\n",
       "      <th>title</th>\n",
       "      <th>content</th>\n",
       "      <th>topic</th>\n",
       "    </tr>\n",
       "  </thead>\n",
       "  <tbody>\n",
       "    <tr>\n",
       "      <th>87</th>\n",
       "      <td>Project management</td>\n",
       "      <td>&lt;p&gt;&lt;b&gt;Project management&lt;/b&gt; is the process of...</td>\n",
       "      <td>business</td>\n",
       "    </tr>\n",
       "    <tr>\n",
       "      <th>137</th>\n",
       "      <td>Biomedical engineering</td>\n",
       "      <td>&lt;p&gt;&lt;b&gt;Biomedical engineering&lt;/b&gt; (&lt;b&gt;BME&lt;/b&gt;) ...</td>\n",
       "      <td>technology</td>\n",
       "    </tr>\n",
       "    <tr>\n",
       "      <th>188</th>\n",
       "      <td>Power transmission</td>\n",
       "      <td>&lt;p&gt;&lt;b&gt;Power transmission&lt;/b&gt; is the movement o...</td>\n",
       "      <td>technology</td>\n",
       "    </tr>\n",
       "    <tr>\n",
       "      <th>131</th>\n",
       "      <td>Speech recognition</td>\n",
       "      <td>&lt;p&gt;\\n&lt;b&gt;Speech recognition&lt;/b&gt; is an interdisc...</td>\n",
       "      <td>technology</td>\n",
       "    </tr>\n",
       "    <tr>\n",
       "      <th>204</th>\n",
       "      <td>Sports car</td>\n",
       "      <td>&lt;p class=\"mw-empty-elt\"&gt;\\n&lt;/p&gt;\\n\\n\\n&lt;p&gt;A &lt;b&gt;sp...</td>\n",
       "      <td>technology</td>\n",
       "    </tr>\n",
       "  </tbody>\n",
       "</table>\n",
       "</div>"
      ],
      "text/plain": [
       "                      title  \\\n",
       "87       Project management   \n",
       "137  Biomedical engineering   \n",
       "188      Power transmission   \n",
       "131      Speech recognition   \n",
       "204              Sports car   \n",
       "\n",
       "                                               content       topic  \n",
       "87   <p><b>Project management</b> is the process of...    business  \n",
       "137  <p><b>Biomedical engineering</b> (<b>BME</b>) ...  technology  \n",
       "188  <p><b>Power transmission</b> is the movement o...  technology  \n",
       "131  <p>\\n<b>Speech recognition</b> is an interdisc...  technology  \n",
       "204  <p class=\"mw-empty-elt\">\\n</p>\\n\\n\\n<p>A <b>sp...  technology  "
      ]
     },
     "execution_count": 3,
     "metadata": {},
     "output_type": "execute_result"
    }
   ],
   "source": [
    "df.sample(5)"
   ]
  },
  {
   "cell_type": "markdown",
   "metadata": {},
   "source": [
    "### Clean and tokenize the content of the articles"
   ]
  },
  {
   "cell_type": "code",
   "execution_count": 4,
   "metadata": {
    "executionInfo": {
     "elapsed": 2723,
     "status": "ok",
     "timestamp": 1609026973907,
     "user": {
      "displayName": "Ahmed Greigra",
      "photoUrl": "https://lh3.googleusercontent.com/a-/AOh14GjVO5kh7A4h_B7r_8BlURYh0xATW0K5y-VcLVZaQQ=s64",
      "userId": "02688016981729645312"
     },
     "user_tz": -60
    },
    "id": "tiQaau049XLy"
   },
   "outputs": [],
   "source": [
    "# removing HTML tags from the articles\n",
    "def remove_tags(text):\n",
    "    \"\"\"Remove HTML tags from a given text\n",
    "    \n",
    "    Parameters\n",
    "    ----------\n",
    "    text: str\n",
    "        text to clean from html tags\n",
    "        \n",
    "    Returns\n",
    "    -------\n",
    "        : str\n",
    "        clean text\n",
    "    \"\"\"\n",
    "    TAG_RE = re.compile(r'<[^>]+>')\n",
    "    return TAG_RE.sub('', text)"
   ]
  },
  {
   "cell_type": "code",
   "execution_count": 5,
   "metadata": {
    "executionInfo": {
     "elapsed": 2719,
     "status": "ok",
     "timestamp": 1609026973908,
     "user": {
      "displayName": "Ahmed Greigra",
      "photoUrl": "https://lh3.googleusercontent.com/a-/AOh14GjVO5kh7A4h_B7r_8BlURYh0xATW0K5y-VcLVZaQQ=s64",
      "userId": "02688016981729645312"
     },
     "user_tz": -60
    },
    "id": "1_ACbo7k9XLz"
   },
   "outputs": [],
   "source": [
    "#Set of functions used to clean a text and transform it to a list of tokens \n",
    "\n",
    "def extract_tokens(text):\n",
    "    \"\"\"Extracts tokens from a given text\n",
    "    \n",
    "    Parameters\n",
    "    ----------\n",
    "    text: str\n",
    "        text to be splited to tokens\n",
    "    Returns\n",
    "    -------\n",
    "    res : list\n",
    "        list of tokens in the text\n",
    "    \"\"\"\n",
    "    res = []\n",
    "    for sent in nltk.sent_tokenize(text):\n",
    "        tmp_res = nltk.word_tokenize(sent)\n",
    "        for token in tmp_res:\n",
    "            res += re.split(\"[\\./]\", token)\n",
    "    return res\n",
    "\n",
    "\n",
    "def clean_tokens(tokens):\n",
    "    \"\"\"Removes punctuation marks from tokens\n",
    "    Parameters\n",
    "    ----------\n",
    "    tokens: list\n",
    "        list to be cleaned from punctuation marks\n",
    "    \n",
    "    Returns\n",
    "    -------\n",
    "    list:\n",
    "        list cleaned from punctuation marks\n",
    "    \"\"\"\n",
    "    return [token.lower() for token in tokens if token not in string.punctuation]\n",
    "\n",
    "\n",
    "def remove_stop_words(tokens):\n",
    "    \"\"\"Removes stopwords from our tokens\n",
    "    \n",
    "    Parameters\n",
    "    ----------\n",
    "    tokens: list \n",
    "        list of tokens to be cleaned from stopwords\n",
    "        \n",
    "    Returns\n",
    "    -------\n",
    "        :list\n",
    "        list cleaned from stopwords\n",
    "    \"\"\"\n",
    "    GARBAGE = {\"'s\", \"n't\", '...', 'oh',\"'m\", \"'re\", \"'\", \"''\", \"'ve\", \"'ll\", \"'d\", \"``\" }\n",
    "    STOP_WORDS = set(stopwords.words('english')).union(GARBAGE)\n",
    "    return [token for token in tokens if token not in STOP_WORDS]\n",
    "\n",
    "def text2tokens(text):\n",
    "    \"\"\"Used to combine three previous functions in one operation.\n",
    "    Parameters\n",
    "    ----------\n",
    "    Text: str\n",
    "        text to be cleaned\n",
    "    Returns\n",
    "    -------\n",
    "    tokens: list\n",
    "        list of tokens cleaned\n",
    "    \"\"\"\n",
    "    text = remove_tags(text)\n",
    "    tokens = extract_tokens(text)\n",
    "    tokens = clean_tokens(tokens)\n",
    "    tokens = remove_stop_words(tokens)\n",
    "    return ' '.join(tokens)"
   ]
  },
  {
   "cell_type": "code",
   "execution_count": 6,
   "metadata": {
    "colab": {
     "base_uri": "https://localhost:8080/"
    },
    "executionInfo": {
     "elapsed": 13862,
     "status": "ok",
     "timestamp": 1609026985056,
     "user": {
      "displayName": "Ahmed Greigra",
      "photoUrl": "https://lh3.googleusercontent.com/a-/AOh14GjVO5kh7A4h_B7r_8BlURYh0xATW0K5y-VcLVZaQQ=s64",
      "userId": "02688016981729645312"
     },
     "user_tz": -60
    },
    "id": "DuQ40_vP9XL0",
    "outputId": "d4283157-417e-4027-c767-98a5ece80031"
   },
   "outputs": [],
   "source": [
    "#nltk.download('stopwords')\n",
    "#nltk.download('punkt')\n",
    "df[\"tokens\"] = df[\"content\"].apply(lambda s: text2tokens(s))"
   ]
  },
  {
   "cell_type": "code",
   "execution_count": 7,
   "metadata": {
    "colab": {
     "base_uri": "https://localhost:8080/",
     "height": 204
    },
    "executionInfo": {
     "elapsed": 13857,
     "status": "ok",
     "timestamp": 1609026985058,
     "user": {
      "displayName": "Ahmed Greigra",
      "photoUrl": "https://lh3.googleusercontent.com/a-/AOh14GjVO5kh7A4h_B7r_8BlURYh0xATW0K5y-VcLVZaQQ=s64",
      "userId": "02688016981729645312"
     },
     "user_tz": -60
    },
    "id": "YL3xoQCR9XL0",
    "outputId": "95a9d44e-55f9-43eb-e3f9-b8943370f301"
   },
   "outputs": [
    {
     "data": {
      "text/html": [
       "<div>\n",
       "<style scoped>\n",
       "    .dataframe tbody tr th:only-of-type {\n",
       "        vertical-align: middle;\n",
       "    }\n",
       "\n",
       "    .dataframe tbody tr th {\n",
       "        vertical-align: top;\n",
       "    }\n",
       "\n",
       "    .dataframe thead th {\n",
       "        text-align: right;\n",
       "    }\n",
       "</style>\n",
       "<table border=\"1\" class=\"dataframe\">\n",
       "  <thead>\n",
       "    <tr style=\"text-align: right;\">\n",
       "      <th></th>\n",
       "      <th>title</th>\n",
       "      <th>content</th>\n",
       "      <th>topic</th>\n",
       "      <th>tokens</th>\n",
       "    </tr>\n",
       "  </thead>\n",
       "  <tbody>\n",
       "    <tr>\n",
       "      <th>251</th>\n",
       "      <td>Debian</td>\n",
       "      <td>&lt;p class=\"mw-empty-elt\"&gt;\\n\\n&lt;/p&gt;\\n&lt;p&gt;&lt;b&gt;Debian...</td>\n",
       "      <td>cybersecurity</td>\n",
       "      <td>debian also known debian gnu linux linux distr...</td>\n",
       "    </tr>\n",
       "    <tr>\n",
       "      <th>276</th>\n",
       "      <td>Web shell</td>\n",
       "      <td>&lt;p&gt;A &lt;b&gt;web shell&lt;/b&gt; is a malicious web-based...</td>\n",
       "      <td>cybersecurity</td>\n",
       "      <td>web shell malicious web-based shell-like inter...</td>\n",
       "    </tr>\n",
       "    <tr>\n",
       "      <th>7</th>\n",
       "      <td>Research and development</td>\n",
       "      <td>&lt;p&gt;&lt;b&gt;Research and development&lt;/b&gt; (&lt;b&gt;R&amp;amp;D...</td>\n",
       "      <td>business</td>\n",
       "      <td>research development r amp r+d known europe re...</td>\n",
       "    </tr>\n",
       "    <tr>\n",
       "      <th>131</th>\n",
       "      <td>Speech recognition</td>\n",
       "      <td>&lt;p&gt;\\n&lt;b&gt;Speech recognition&lt;/b&gt; is an interdisc...</td>\n",
       "      <td>technology</td>\n",
       "      <td>speech recognition interdisciplinary subfield ...</td>\n",
       "    </tr>\n",
       "    <tr>\n",
       "      <th>303</th>\n",
       "      <td>INOC-DBA</td>\n",
       "      <td>&lt;p&gt;The &lt;b&gt;INOC-DBA&lt;/b&gt; (Inter-Network Operatio...</td>\n",
       "      <td>cybersecurity</td>\n",
       "      <td>inoc-dba inter-network operations center dial-...</td>\n",
       "    </tr>\n",
       "  </tbody>\n",
       "</table>\n",
       "</div>"
      ],
      "text/plain": [
       "                        title  \\\n",
       "251                    Debian   \n",
       "276                 Web shell   \n",
       "7    Research and development   \n",
       "131        Speech recognition   \n",
       "303                  INOC-DBA   \n",
       "\n",
       "                                               content          topic  \\\n",
       "251  <p class=\"mw-empty-elt\">\\n\\n</p>\\n<p><b>Debian...  cybersecurity   \n",
       "276  <p>A <b>web shell</b> is a malicious web-based...  cybersecurity   \n",
       "7    <p><b>Research and development</b> (<b>R&amp;D...       business   \n",
       "131  <p>\\n<b>Speech recognition</b> is an interdisc...     technology   \n",
       "303  <p>The <b>INOC-DBA</b> (Inter-Network Operatio...  cybersecurity   \n",
       "\n",
       "                                                tokens  \n",
       "251  debian also known debian gnu linux linux distr...  \n",
       "276  web shell malicious web-based shell-like inter...  \n",
       "7    research development r amp r+d known europe re...  \n",
       "131  speech recognition interdisciplinary subfield ...  \n",
       "303  inoc-dba inter-network operations center dial-...  "
      ]
     },
     "execution_count": 7,
     "metadata": {},
     "output_type": "execute_result"
    }
   ],
   "source": [
    "df.sample(5)"
   ]
  },
  {
   "cell_type": "code",
   "execution_count": 8,
   "metadata": {
    "executionInfo": {
     "elapsed": 13849,
     "status": "ok",
     "timestamp": 1609026985059,
     "user": {
      "displayName": "Ahmed Greigra",
      "photoUrl": "https://lh3.googleusercontent.com/a-/AOh14GjVO5kh7A4h_B7r_8BlURYh0xATW0K5y-VcLVZaQQ=s64",
      "userId": "02688016981729645312"
     },
     "user_tz": -60
    },
    "id": "CcWxusFHPpwj"
   },
   "outputs": [],
   "source": [
    "df_train, df_valid = sklearn.model_selection.train_test_split(df, test_size=0.1)"
   ]
  },
  {
   "cell_type": "code",
   "execution_count": 9,
   "metadata": {
    "executionInfo": {
     "elapsed": 13849,
     "status": "ok",
     "timestamp": 1609026985060,
     "user": {
      "displayName": "Ahmed Greigra",
      "photoUrl": "https://lh3.googleusercontent.com/a-/AOh14GjVO5kh7A4h_B7r_8BlURYh0xATW0K5y-VcLVZaQQ=s64",
      "userId": "02688016981729645312"
     },
     "user_tz": -60
    },
    "id": "moMpBYCT9XL1"
   },
   "outputs": [],
   "source": [
    "def one_hot_encoder(label):\n",
    "    y = np.array(label)\n",
    "    encoder = LabelEncoder()\n",
    "    encoder.fit(y)\n",
    "    encoded_Y = encoder.transform(y)\n",
    "    dummy_y = np_utils.to_categorical(encoded_Y)\n",
    "    return encoded_Y, dummy_y"
   ]
  },
  {
   "cell_type": "code",
   "execution_count": 10,
   "metadata": {
    "executionInfo": {
     "elapsed": 13845,
     "status": "ok",
     "timestamp": 1609026985064,
     "user": {
      "displayName": "Ahmed Greigra",
      "photoUrl": "https://lh3.googleusercontent.com/a-/AOh14GjVO5kh7A4h_B7r_8BlURYh0xATW0K5y-VcLVZaQQ=s64",
      "userId": "02688016981729645312"
     },
     "user_tz": -60
    },
    "id": "sgKl-wUEQO_K"
   },
   "outputs": [],
   "source": [
    "train_labels, y_train = one_hot_encoder(df_train[\"topic\"])\n",
    "valid_labels, y_valid = one_hot_encoder(df_valid[\"topic\"])"
   ]
  },
  {
   "cell_type": "code",
   "execution_count": 11,
   "metadata": {
    "executionInfo": {
     "elapsed": 13842,
     "status": "ok",
     "timestamp": 1609026985065,
     "user": {
      "displayName": "Ahmed Greigra",
      "photoUrl": "https://lh3.googleusercontent.com/a-/AOh14GjVO5kh7A4h_B7r_8BlURYh0xATW0K5y-VcLVZaQQ=s64",
      "userId": "02688016981729645312"
     },
     "user_tz": -60
    },
    "id": "L1NVoREN9XL1"
   },
   "outputs": [],
   "source": [
    "vocabulary_size = 20000\n",
    "tokenizer = Tokenizer(num_words= vocabulary_size)"
   ]
  },
  {
   "cell_type": "code",
   "execution_count": 12,
   "metadata": {
    "executionInfo": {
     "elapsed": 15231,
     "status": "ok",
     "timestamp": 1609026986458,
     "user": {
      "displayName": "Ahmed Greigra",
      "photoUrl": "https://lh3.googleusercontent.com/a-/AOh14GjVO5kh7A4h_B7r_8BlURYh0xATW0K5y-VcLVZaQQ=s64",
      "userId": "02688016981729645312"
     },
     "user_tz": -60
    },
    "id": "BJn6VdqXQvSK"
   },
   "outputs": [],
   "source": [
    "tokenizer.fit_on_texts(df_train['tokens'])\n",
    "sequences = tokenizer.texts_to_sequences(df_train['tokens'])\n",
    "X_train = pad_sequences(sequences)"
   ]
  },
  {
   "cell_type": "code",
   "execution_count": 13,
   "metadata": {
    "executionInfo": {
     "elapsed": 15235,
     "status": "ok",
     "timestamp": 1609026986466,
     "user": {
      "displayName": "Ahmed Greigra",
      "photoUrl": "https://lh3.googleusercontent.com/a-/AOh14GjVO5kh7A4h_B7r_8BlURYh0xATW0K5y-VcLVZaQQ=s64",
      "userId": "02688016981729645312"
     },
     "user_tz": -60
    },
    "id": "jwgKdcrmQ9Kg"
   },
   "outputs": [],
   "source": [
    "tokenizer.fit_on_texts(df_valid['tokens'])\n",
    "sequences = tokenizer.texts_to_sequences(df_valid['tokens'])\n",
    "X_valid = pad_sequences(sequences, maxlen=X_train.shape[1])\n"
   ]
  },
  {
   "cell_type": "code",
   "execution_count": 14,
   "metadata": {
    "colab": {
     "base_uri": "https://localhost:8080/"
    },
    "executionInfo": {
     "elapsed": 15238,
     "status": "ok",
     "timestamp": 1609026986473,
     "user": {
      "displayName": "Ahmed Greigra",
      "photoUrl": "https://lh3.googleusercontent.com/a-/AOh14GjVO5kh7A4h_B7r_8BlURYh0xATW0K5y-VcLVZaQQ=s64",
      "userId": "02688016981729645312"
     },
     "user_tz": -60
    },
    "id": "WjAUpYVB9XL2",
    "outputId": "f9c023f3-137c-432f-9404-19d9a6930936"
   },
   "outputs": [
    {
     "name": "stdout",
     "output_type": "stream",
     "text": [
      "(299, 9374) (299, 3)\n"
     ]
    }
   ],
   "source": [
    "print(X_train.shape, y_train.shape)"
   ]
  },
  {
   "cell_type": "markdown",
   "metadata": {},
   "source": [
    "## Build neural network\n",
    "\n",
    "I created a network architecture with an embedding layer as the first layer, which will allow the system to extend each token to a more massive vector, allowing the network to represent a word in a meaningful way. The layer takes the size of our vocabulary as the first argument, and as the second input parameter, the size of the embedding. The last parameter is the input_length.\n",
    "\n",
    "As we have a classification problem with more than two classes, we have used \"softmax\" as activation function in the last layer and categorical_crossentropy as loss function which will be optimized\n",
    "\n",
    "This is an example of model that could work will in such case, but it is not the only way to do this. For instance, we could have used a simple logistic regression or in a similar way, we could use a pre-trained word embeddings such as glove or word2vec, but because the computational expenses, I could not.\n",
    "Once we have many models depending on the results of each one we can choose which one is more appropriate or even combine them or some of them.\n"
   ]
  },
  {
   "cell_type": "code",
   "execution_count": 15,
   "metadata": {
    "executionInfo": {
     "elapsed": 15233,
     "status": "ok",
     "timestamp": 1609026986474,
     "user": {
      "displayName": "Ahmed Greigra",
      "photoUrl": "https://lh3.googleusercontent.com/a-/AOh14GjVO5kh7A4h_B7r_8BlURYh0xATW0K5y-VcLVZaQQ=s64",
      "userId": "02688016981729645312"
     },
     "user_tz": -60
    },
    "id": "GJ73xxxe9XL3"
   },
   "outputs": [],
   "source": [
    "def create_model(input_shape):\n",
    "    model = Sequential([Embedding(vocabulary_size, 80, input_length=input_shape),\n",
    "                        Conv1D(64, 5, activation='relu'),\n",
    "                        MaxPooling1D(pool_size=9),\n",
    "                        LSTM(80),\n",
    "                        Dense(3, activation='softmax')\n",
    "                       ])\n",
    "    model.compile(loss='categorical_crossentropy', optimizer='adam', metrics=['accuracy'])\n",
    "    return model"
   ]
  },
  {
   "cell_type": "code",
   "execution_count": 16,
   "metadata": {
    "colab": {
     "base_uri": "https://localhost:8080/"
    },
    "executionInfo": {
     "elapsed": 29771,
     "status": "ok",
     "timestamp": 1609027001016,
     "user": {
      "displayName": "Ahmed Greigra",
      "photoUrl": "https://lh3.googleusercontent.com/a-/AOh14GjVO5kh7A4h_B7r_8BlURYh0xATW0K5y-VcLVZaQQ=s64",
      "userId": "02688016981729645312"
     },
     "user_tz": -60
    },
    "id": "MvCWlgOm9XL3",
    "outputId": "3c4ff6f8-1180-43e7-e260-c1f826f8303f"
   },
   "outputs": [
    {
     "name": "stdout",
     "output_type": "stream",
     "text": [
      "Epoch 1/10\n",
      "6/6 [==============================] - 7s 1s/step - loss: 1.0943 - accuracy: 0.3687 - val_loss: 1.0884 - val_accuracy: 0.3833\n",
      "Epoch 2/10\n",
      "6/6 [==============================] - 6s 1s/step - loss: 1.0585 - accuracy: 0.3966 - val_loss: 1.0811 - val_accuracy: 0.4250\n",
      "Epoch 3/10\n",
      "6/6 [==============================] - 6s 1s/step - loss: 0.9977 - accuracy: 0.4749 - val_loss: 1.0286 - val_accuracy: 0.4333\n",
      "Epoch 4/10\n",
      "6/6 [==============================] - 6s 1s/step - loss: 0.7808 - accuracy: 0.6536 - val_loss: 0.7658 - val_accuracy: 0.5750\n",
      "Epoch 5/10\n",
      "6/6 [==============================] - 7s 1s/step - loss: 0.5479 - accuracy: 0.7877 - val_loss: 0.6139 - val_accuracy: 0.8417\n",
      "Epoch 6/10\n",
      "6/6 [==============================] - 6s 1s/step - loss: 0.3074 - accuracy: 0.9609 - val_loss: 0.5184 - val_accuracy: 0.7083\n",
      "Epoch 7/10\n",
      "6/6 [==============================] - 7s 1s/step - loss: 0.1202 - accuracy: 0.9888 - val_loss: 0.3296 - val_accuracy: 0.9417\n",
      "Epoch 8/10\n",
      "6/6 [==============================] - 7s 1s/step - loss: 0.0402 - accuracy: 0.9944 - val_loss: 0.2110 - val_accuracy: 0.9167\n",
      "Epoch 9/10\n",
      "6/6 [==============================] - 7s 1s/step - loss: 0.0136 - accuracy: 1.0000 - val_loss: 0.2252 - val_accuracy: 0.9333\n",
      "Epoch 10/10\n",
      "6/6 [==============================] - 7s 1s/step - loss: 0.0198 - accuracy: 0.9944 - val_loss: 0.2102 - val_accuracy: 0.9333\n"
     ]
    }
   ],
   "source": [
    "model = create_model(X_train.shape[1])\n",
    "history = model.fit(X_train, y_train, validation_split=0.4, epochs = 10)"
   ]
  },
  {
   "cell_type": "code",
   "execution_count": 17,
   "metadata": {
    "colab": {
     "base_uri": "https://localhost:8080/"
    },
    "executionInfo": {
     "elapsed": 30774,
     "status": "ok",
     "timestamp": 1609027002024,
     "user": {
      "displayName": "Ahmed Greigra",
      "photoUrl": "https://lh3.googleusercontent.com/a-/AOh14GjVO5kh7A4h_B7r_8BlURYh0xATW0K5y-VcLVZaQQ=s64",
      "userId": "02688016981729645312"
     },
     "user_tz": -60
    },
    "id": "vEVeHxRmb47a",
    "outputId": "bfbf9f03-e751-4897-a4f8-4f7e78ba64a8"
   },
   "outputs": [
    {
     "name": "stdout",
     "output_type": "stream",
     "text": [
      "Training Accuracy: 0.9732\n"
     ]
    }
   ],
   "source": [
    "loss, accuracy = model.evaluate(X_train, y_train, verbose=False)\n",
    "print(\"Training Accuracy: {:.4f}\".format(accuracy))"
   ]
  },
  {
   "cell_type": "code",
   "execution_count": 18,
   "metadata": {
    "colab": {
     "base_uri": "https://localhost:8080/"
    },
    "executionInfo": {
     "elapsed": 31100,
     "status": "ok",
     "timestamp": 1609027002362,
     "user": {
      "displayName": "Ahmed Greigra",
      "photoUrl": "https://lh3.googleusercontent.com/a-/AOh14GjVO5kh7A4h_B7r_8BlURYh0xATW0K5y-VcLVZaQQ=s64",
      "userId": "02688016981729645312"
     },
     "user_tz": -60
    },
    "id": "lDCcvcrPWi4D",
    "outputId": "8019e444-18b3-40b1-fecd-92e52d9fdeb6"
   },
   "outputs": [],
   "source": [
    "import matplotlib.pyplot as plt\n",
    "plt.style.use('ggplot')\n",
    "\n",
    "def plot_history(history):\n",
    "    acc = history.history['accuracy']\n",
    "    val_acc = history.history['val_accuracy']\n",
    "    loss = history.history['loss']\n",
    "    val_loss = history.history['val_loss']\n",
    "    x = range(1, len(acc) + 1)\n",
    "\n",
    "    plt.figure(figsize=(12, 5))\n",
    "    plt.subplot(1, 2, 1)\n",
    "    plt.plot(x, acc, 'b', label='Training acc')\n",
    "    plt.plot(x, val_acc, 'r', label='Validation acc')\n",
    "    plt.title('Training and validation accuracy')\n",
    "    plt.legend()\n",
    "    plt.subplot(1, 2, 2)\n",
    "    plt.plot(x, loss, 'b', label='Training loss')\n",
    "    plt.plot(x, val_loss, 'r', label='Validation loss')\n",
    "    plt.title('Training and validation loss')\n",
    "    plt.legend()"
   ]
  },
  {
   "cell_type": "code",
   "execution_count": 19,
   "metadata": {},
   "outputs": [
    {
     "data": {
      "image/png": "[encoded data removed]",
      "text/plain": [
       "<Figure size 864x360 with 2 Axes>"
      ]
     },
     "metadata": {},
     "output_type": "display_data"
    }
   ],
   "source": [
    "plot_history(history)"
   ]
  }
 ],
 "metadata": {
  "accelerator": "GPU",
  "colab": {
   "collapsed_sections": [],
   "name": "Untitled1.ipynb",
   "provenance": []
  },
  "kernelspec": {
   "display_name": "Python 3",
   "language": "python",
   "name": "python3"
  },
  "language_info": {
   "codemirror_mode": {
    "name": "ipython",
    "version": 3
   },
   "file_extension": ".py",
   "mimetype": "text/x-python",
   "name": "python",
   "nbconvert_exporter": "python",
   "pygments_lexer": "ipython3",
   "version": "3.8.5"
  }
 },
 "nbformat": 4,
 "nbformat_minor": 1
}
